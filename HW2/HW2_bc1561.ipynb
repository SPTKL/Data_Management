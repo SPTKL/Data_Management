{
 "cells": [
  {
   "cell_type": "code",
   "execution_count": 13,
   "metadata": {},
   "outputs": [
    {
     "data": {
      "text/html": [
       "\n",
       "        <div>\n",
       "            <p><b>SparkContext</b></p>\n",
       "\n",
       "            <p><a href=\"http://172.16.37.80:4040\">Spark UI</a></p>\n",
       "\n",
       "            <dl>\n",
       "              <dt>Version</dt>\n",
       "                <dd><code>v2.3.1</code></dd>\n",
       "              <dt>Master</dt>\n",
       "                <dd><code>local[*]</code></dd>\n",
       "              <dt>AppName</dt>\n",
       "                <dd><code>PySparkShell</code></dd>\n",
       "            </dl>\n",
       "        </div>\n",
       "        "
      ],
      "text/plain": [
       "<SparkContext master=local[*] appName=PySparkShell>"
      ]
     },
     "execution_count": 13,
     "metadata": {},
     "output_type": "execute_result"
    }
   ],
   "source": [
    "sc"
   ]
  },
  {
   "cell_type": "code",
   "execution_count": 14,
   "metadata": {},
   "outputs": [
    {
     "name": "stdout",
     "output_type": "stream",
     "text": [
      "['CAMIS', 'DBA', 'BORO', 'BUILDING', 'STREET', 'ZIPCODE', 'PHONE', 'CUISINE DESCRIPTION', 'INSPECTION DATE', 'ACTION', 'VIOLATION CODE', 'VIOLATION DESCRIPTION', 'CRITICAL FLAG', 'SCORE', 'GRADE', 'GRADE DATE', 'RECORD DATE', 'INSPECTION TYPE']\n"
     ]
    }
   ],
   "source": [
    "import csv\n",
    "with open('nyc_restaurant_inspections.csv', 'r') as fi:\n",
    "    reader = csv.reader(fi)\n",
    "    print(next(reader))"
   ]
  },
  {
   "cell_type": "code",
   "execution_count": 15,
   "metadata": {},
   "outputs": [],
   "source": [
    "def cuisine_counter(pid, record):\n",
    "    import csv\n",
    "    if pid==0:\n",
    "        next(record)\n",
    "    reader = csv.reader(record)\n",
    "    counts = {}\n",
    "    camis_record = []\n",
    "    for row in reader:\n",
    "        camis = row[0]\n",
    "        cuisine = row[7]\n",
    "        if camis in camis_record: \n",
    "            pass\n",
    "        else:\n",
    "            counts[cuisine] = counts.get(cuisine, 0) + 1\n",
    "            camis_record.append(camis)\n",
    "    return counts.items()\n",
    "\n",
    "rdd = sc.textFile('nyc_restaurant_inspections.csv')\n",
    "counts = rdd.mapPartitionsWithIndex(cuisine_counter) \\\n",
    "            .reduceByKey(lambda x,y: x+y) \\\n",
    "            .collect()"
   ]
  },
  {
   "cell_type": "code",
   "execution_count": 16,
   "metadata": {},
   "outputs": [
    {
     "data": {
      "text/plain": [
       "[('Chicken', 1780),\n",
       " ('American', 23394),\n",
       " ('Tex-Mex', 534),\n",
       " ('Latin (Cuban, Dominican, Puerto Rican, South & Central American)', 3582),\n",
       " ('CafÃ©/Coffee/Tea', 5804),\n",
       " ('Spanish', 2593),\n",
       " ('Thai', 1182),\n",
       " ('Sandwiches', 1497),\n",
       " ('Creole', 117),\n",
       " ('Ethiopian', 70),\n",
       " ('Polish', 108),\n",
       " ('Soups & Sandwiches', 168),\n",
       " ('Creole/Cajun', 22),\n",
       " ('Polynesian', 5),\n",
       " ('Sandwiches/Salads/Mixed Buffet', 915),\n",
       " ('Chinese', 9656),\n",
       " ('Russian', 336),\n",
       " ('Seafood', 706),\n",
       " ('Continental', 214),\n",
       " ('Eastern European', 297),\n",
       " ('Afghan', 59),\n",
       " ('French', 1283),\n",
       " ('Tapas', 143),\n",
       " ('Peruvian', 308),\n",
       " ('Chinese/Japanese', 197),\n",
       " ('Fruits/Vegetables', 15),\n",
       " ('Portuguese', 34),\n",
       " ('Pancakes/Waffles', 69),\n",
       " ('Southwestern', 22),\n",
       " ('Czech', 12),\n",
       " ('Juice, Smoothies, Fruit Salads', 1282),\n",
       " ('Pizza/Italian', 1966),\n",
       " ('Delicatessen', 1240),\n",
       " ('Hamburgers', 1485),\n",
       " ('Bagels/Pretzels', 715),\n",
       " ('Other', 1773),\n",
       " ('Barbecue', 196),\n",
       " ('Asian', 1481),\n",
       " ('Filipino', 136),\n",
       " ('Chilean', 14),\n",
       " ('Not Listed/Not Applicable', 33),\n",
       " ('Irish', 774),\n",
       " ('Bottled beverages, including water, sodas, juices, etc.', 347),\n",
       " ('Pakistani', 135),\n",
       " ('English', 70),\n",
       " ('Cajun', 40),\n",
       " ('Australian', 70),\n",
       " ('Jewish/Kosher', 1324),\n",
       " ('Korean', 1097),\n",
       " ('Donuts', 2001),\n",
       " ('Mediterranean', 986),\n",
       " ('Soul Food', 224),\n",
       " ('Salads', 243),\n",
       " ('Indian', 1332),\n",
       " ('Greek', 559),\n",
       " ('Mexican', 3528),\n",
       " ('Ice Cream, Gelato, Yogurt, Ices', 1157),\n",
       " ('African', 298),\n",
       " ('Brazilian', 111),\n",
       " ('Hawaiian', 89),\n",
       " ('Vietnamese/Cambodian/Malaysia', 341),\n",
       " ('Vegetarian', 408),\n",
       " ('German', 147),\n",
       " ('Hotdogs', 103),\n",
       " ('Egyptian', 50),\n",
       " ('Indonesian', 36),\n",
       " ('Basque', 7),\n",
       " ('Soups', 15),\n",
       " ('Caribbean', 2748),\n",
       " ('Italian', 4143),\n",
       " ('Japanese', 3438),\n",
       " ('Pizza', 4673),\n",
       " ('Bakery', 2879),\n",
       " ('Bangladeshi', 177),\n",
       " ('Hotdogs/Pretzels', 62),\n",
       " ('Middle Eastern', 688),\n",
       " ('Armenian', 134),\n",
       " ('Steak', 351),\n",
       " ('Turkish', 254),\n",
       " ('Chinese/Cuban', 77),\n",
       " ('Californian', 22),\n",
       " ('Moroccan', 53),\n",
       " ('Scandinavian', 21),\n",
       " ('Iranian', 13),\n",
       " ('Nuts/Confectionary', 15)]"
      ]
     },
     "execution_count": 16,
     "metadata": {},
     "output_type": "execute_result"
    }
   ],
   "source": [
    "counts"
   ]
  },
  {
   "cell_type": "code",
   "execution_count": 17,
   "metadata": {},
   "outputs": [
    {
     "data": {
      "text/plain": [
       "85"
      ]
     },
     "execution_count": 17,
     "metadata": {},
     "output_type": "execute_result"
    }
   ],
   "source": [
    "len(counts)"
   ]
  }
 ],
 "metadata": {
  "kernelspec": {
   "display_name": "Python 3",
   "language": "python",
   "name": "python3"
  },
  "language_info": {
   "codemirror_mode": {
    "name": "ipython",
    "version": 3
   },
   "file_extension": ".py",
   "mimetype": "text/x-python",
   "name": "python",
   "nbconvert_exporter": "python",
   "pygments_lexer": "ipython3",
   "version": "3.6.4"
  }
 },
 "nbformat": 4,
 "nbformat_minor": 2
}
