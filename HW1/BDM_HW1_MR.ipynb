{
 "cells": [
  {
   "cell_type": "markdown",
   "metadata": {},
   "source": [
    "# Homework 1 - MapReduce (10 pts)\n",
    "\n",
    "### DUE: 06/26/2018 before class at 2:00pm\n",
    "\n",
    "In this homework, we will practice MapReduce. In short, you are asked to redo Task 2 of **BDM_HW1_HOF.ipynb** using MapReduce instead of Python's Higher Order Functions.\n",
    "\n",
    "You are required to turn in this notebook with all the parts filled in between <>. Your notebook must be named BDM\\_HW1\\_MR_NetID.ipynb\n",
    "\n",
    "We will be using the provided the Graduation Outcomes data set for cohorts from 2001 through 2006 (Classes of 2005 through 2010) from the NYC Department of Education (the data handle on NYC Open Data is **avir-tzek**). The data is available on NYU Classes as **nyc_grads.csv**."
   ]
  },
  {
   "cell_type": "markdown",
   "metadata": {},
   "source": [
    "#### The first ten records of the data are shown below. Please note, the data are sorted by \"Demographics\", then \"Borough\", then \"Cohort\"."
   ]
  },
  {
   "cell_type": "code",
   "execution_count": 1,
   "metadata": {},
   "outputs": [
    {
     "data": {
      "text/html": [
       "<div>\n",
       "<table border=\"1\" class=\"dataframe\">\n",
       "  <thead>\n",
       "    <tr style=\"text-align: right;\">\n",
       "      <th></th>\n",
       "      <th>Demographic</th>\n",
       "      <th>Borough</th>\n",
       "      <th>Cohort</th>\n",
       "      <th>Total Cohort</th>\n",
       "      <th>Grads</th>\n",
       "      <th>Regents</th>\n",
       "      <th>Advanced Regents</th>\n",
       "      <th>Local</th>\n",
       "      <th>Dropped Out</th>\n",
       "    </tr>\n",
       "  </thead>\n",
       "  <tbody>\n",
       "    <tr>\n",
       "      <th>0</th>\n",
       "      <td>Borough Total</td>\n",
       "      <td>Bronx</td>\n",
       "      <td>2001</td>\n",
       "      <td>11453</td>\n",
       "      <td>4913</td>\n",
       "      <td>2644</td>\n",
       "      <td>998</td>\n",
       "      <td>2271</td>\n",
       "      <td>2438</td>\n",
       "    </tr>\n",
       "    <tr>\n",
       "      <th>1</th>\n",
       "      <td>Borough Total</td>\n",
       "      <td>Bronx</td>\n",
       "      <td>2002</td>\n",
       "      <td>12032</td>\n",
       "      <td>5328</td>\n",
       "      <td>3118</td>\n",
       "      <td>992</td>\n",
       "      <td>2217</td>\n",
       "      <td>2140</td>\n",
       "    </tr>\n",
       "    <tr>\n",
       "      <th>2</th>\n",
       "      <td>Borough Total</td>\n",
       "      <td>Bronx</td>\n",
       "      <td>2003</td>\n",
       "      <td>13632</td>\n",
       "      <td>6389</td>\n",
       "      <td>3861</td>\n",
       "      <td>1255</td>\n",
       "      <td>2528</td>\n",
       "      <td>2472</td>\n",
       "    </tr>\n",
       "    <tr>\n",
       "      <th>3</th>\n",
       "      <td>Borough Total</td>\n",
       "      <td>Bronx</td>\n",
       "      <td>2004</td>\n",
       "      <td>14364</td>\n",
       "      <td>7448</td>\n",
       "      <td>4625</td>\n",
       "      <td>1395</td>\n",
       "      <td>2823</td>\n",
       "      <td>2303</td>\n",
       "    </tr>\n",
       "    <tr>\n",
       "      <th>4</th>\n",
       "      <td>Borough Total</td>\n",
       "      <td>Bronx</td>\n",
       "      <td>2005</td>\n",
       "      <td>15175</td>\n",
       "      <td>8229</td>\n",
       "      <td>5618</td>\n",
       "      <td>1544</td>\n",
       "      <td>2611</td>\n",
       "      <td>2147</td>\n",
       "    </tr>\n",
       "    <tr>\n",
       "      <th>5</th>\n",
       "      <td>Borough Total</td>\n",
       "      <td>Bronx</td>\n",
       "      <td>2006</td>\n",
       "      <td>15579</td>\n",
       "      <td>8524</td>\n",
       "      <td>6312</td>\n",
       "      <td>1558</td>\n",
       "      <td>2212</td>\n",
       "      <td>2402</td>\n",
       "    </tr>\n",
       "    <tr>\n",
       "      <th>6</th>\n",
       "      <td>Borough Total</td>\n",
       "      <td>Brooklyn</td>\n",
       "      <td>2001</td>\n",
       "      <td>19961</td>\n",
       "      <td>9758</td>\n",
       "      <td>6177</td>\n",
       "      <td>2829</td>\n",
       "      <td>3591</td>\n",
       "      <td>3547</td>\n",
       "    </tr>\n",
       "    <tr>\n",
       "      <th>7</th>\n",
       "      <td>Borough Total</td>\n",
       "      <td>Brooklyn</td>\n",
       "      <td>2002</td>\n",
       "      <td>20808</td>\n",
       "      <td>10337</td>\n",
       "      <td>7050</td>\n",
       "      <td>2865</td>\n",
       "      <td>3298</td>\n",
       "      <td>3369</td>\n",
       "    </tr>\n",
       "    <tr>\n",
       "      <th>8</th>\n",
       "      <td>Borough Total</td>\n",
       "      <td>Brooklyn</td>\n",
       "      <td>2003</td>\n",
       "      <td>21334</td>\n",
       "      <td>11064</td>\n",
       "      <td>7711</td>\n",
       "      <td>3239</td>\n",
       "      <td>3353</td>\n",
       "      <td>3198</td>\n",
       "    </tr>\n",
       "    <tr>\n",
       "      <th>9</th>\n",
       "      <td>Borough Total</td>\n",
       "      <td>Brooklyn</td>\n",
       "      <td>2004</td>\n",
       "      <td>22353</td>\n",
       "      <td>12303</td>\n",
       "      <td>8872</td>\n",
       "      <td>3741</td>\n",
       "      <td>3431</td>\n",
       "      <td>2973</td>\n",
       "    </tr>\n",
       "  </tbody>\n",
       "</table>\n",
       "</div>"
      ],
      "text/plain": [
       "     Demographic   Borough  Cohort  Total Cohort  Grads  Regents  \\\n",
       "0  Borough Total     Bronx    2001         11453   4913     2644   \n",
       "1  Borough Total     Bronx    2002         12032   5328     3118   \n",
       "2  Borough Total     Bronx    2003         13632   6389     3861   \n",
       "3  Borough Total     Bronx    2004         14364   7448     4625   \n",
       "4  Borough Total     Bronx    2005         15175   8229     5618   \n",
       "5  Borough Total     Bronx    2006         15579   8524     6312   \n",
       "6  Borough Total  Brooklyn    2001         19961   9758     6177   \n",
       "7  Borough Total  Brooklyn    2002         20808  10337     7050   \n",
       "8  Borough Total  Brooklyn    2003         21334  11064     7711   \n",
       "9  Borough Total  Brooklyn    2004         22353  12303     8872   \n",
       "\n",
       "   Advanced Regents  Local  Dropped Out  \n",
       "0               998   2271         2438  \n",
       "1               992   2217         2140  \n",
       "2              1255   2528         2472  \n",
       "3              1395   2823         2303  \n",
       "4              1544   2611         2147  \n",
       "5              1558   2212         2402  \n",
       "6              2829   3591         3547  \n",
       "7              2865   3298         3369  \n",
       "8              3239   3353         3198  \n",
       "9              3741   3431         2973  "
      ]
     },
     "execution_count": 1,
     "metadata": {},
     "output_type": "execute_result"
    }
   ],
   "source": [
    "DO NOT RUN THIS CELL"
   ]
  },
  {
   "cell_type": "code",
   "execution_count": 2,
   "metadata": {},
   "outputs": [],
   "source": [
    "import csv\n",
    "import mapreduce as mr"
   ]
  },
  {
   "cell_type": "markdown",
   "metadata": {},
   "source": [
    "## Task 1 (10 points)\n",
    "\n",
    "In this data set, we would like to inspect whether there is a correlation between the dropped out percentage and the percentage of students graduated with advanced regents for schools in NYC. Thus, we must compute the ratio of **Dropped Out** and **Advanced Regents** for each borough, and for each year by dividing them by the **Total Cohort** value. Thus, the only useful records for us are those with the **Demographic** value equals to **'Borough Total'**, aka. you must filter the data to this type of demographic first.\n",
    "\n",
    "Please write a MapReduce job to compute the average ratio of dropped out and advanced regents per borough (i.e. averaging the numbers from 2001 to 2006 for each borough). Your input should be taken directly from **reader**, the CSV data stream. Though you are encouraged to write your helper functions (instead of lambdas) to make your expression concise, global variables are absolutely not allowed. No exception. The output must be exactly as below."
   ]
  },
  {
   "cell_type": "code",
   "execution_count": 71,
   "metadata": {},
   "outputs": [
    {
     "ename": "TypeError",
     "evalue": "'float' object is not iterable",
     "output_type": "error",
     "traceback": [
      "\u001b[0;31m---------------------------------------------------------------------------\u001b[0m",
      "\u001b[0;31mTypeError\u001b[0m                                 Traceback (most recent call last)",
      "\u001b[0;32m<ipython-input-71-e0c6a75af747>\u001b[0m in \u001b[0;36m<module>\u001b[0;34m()\u001b[0m\n\u001b[1;32m      3\u001b[0m \u001b[0;32mwith\u001b[0m \u001b[0mopen\u001b[0m\u001b[0;34m(\u001b[0m\u001b[0;34m'nyc_grads.csv'\u001b[0m\u001b[0;34m,\u001b[0m \u001b[0;34m'r'\u001b[0m\u001b[0;34m)\u001b[0m \u001b[0;32mas\u001b[0m \u001b[0mfi\u001b[0m\u001b[0;34m:\u001b[0m\u001b[0;34m\u001b[0m\u001b[0m\n\u001b[1;32m      4\u001b[0m     \u001b[0mreader\u001b[0m \u001b[0;34m=\u001b[0m \u001b[0mcsv\u001b[0m\u001b[0;34m.\u001b[0m\u001b[0mDictReader\u001b[0m\u001b[0;34m(\u001b[0m\u001b[0mfi\u001b[0m\u001b[0;34m)\u001b[0m\u001b[0;34m\u001b[0m\u001b[0m\n\u001b[0;32m----> 5\u001b[0;31m     \u001b[0moutput\u001b[0m \u001b[0;34m=\u001b[0m \u001b[0mlist\u001b[0m\u001b[0;34m(\u001b[0m\u001b[0mmr\u001b[0m\u001b[0;34m.\u001b[0m\u001b[0mrun\u001b[0m\u001b[0;34m(\u001b[0m\u001b[0mreader\u001b[0m\u001b[0;34m,\u001b[0m \u001b[0mmapper1\u001b[0m\u001b[0;34m,\u001b[0m \u001b[0mreducer1\u001b[0m\u001b[0;34m)\u001b[0m\u001b[0;34m)\u001b[0m\u001b[0;34m\u001b[0m\u001b[0m\n\u001b[0m\u001b[1;32m      6\u001b[0m \u001b[0;34m\u001b[0m\u001b[0m\n\u001b[1;32m      7\u001b[0m \u001b[0moutput\u001b[0m\u001b[0;34m\u001b[0m\u001b[0m\n",
      "\u001b[0;32m/projects/18_geocoded_ldpo311/user/bc1561/big_data/HW1/mapreduce.py\u001b[0m in \u001b[0;36m<genexpr>\u001b[0;34m(.0)\u001b[0m\n\u001b[1;32m     39\u001b[0m     \u001b[0mk2v2\u001b[0m \u001b[0;34m=\u001b[0m \u001b[0;34m(\u001b[0m\u001b[0mr\u001b[0m \u001b[0;32mfor\u001b[0m \u001b[0mg\u001b[0m \u001b[0;32min\u001b[0m \u001b[0mk1v1\u001b[0m \u001b[0;32mfor\u001b[0m \u001b[0mr\u001b[0m \u001b[0;32min\u001b[0m \u001b[0mmapper\u001b[0m\u001b[0;34m(\u001b[0m\u001b[0mg\u001b[0m\u001b[0;34m)\u001b[0m\u001b[0;34m)\u001b[0m\u001b[0;34m\u001b[0m\u001b[0m\n\u001b[1;32m     40\u001b[0m     k3v3 = ((reducer((k2, list(map(operator.itemgetter(1), v2s))))\n\u001b[0;32m---> 41\u001b[0;31m             for k2, v2s in itertools.groupby(sorted(k2v2), key=operator.itemgetter(0)))\n\u001b[0m\u001b[1;32m     42\u001b[0m             if reducer else k2v2)\n\u001b[1;32m     43\u001b[0m     \u001b[0;32mreturn\u001b[0m \u001b[0mk3v3\u001b[0m\u001b[0;34m\u001b[0m\u001b[0m\n",
      "\u001b[0;32m<ipython-input-70-4e661825468f>\u001b[0m in \u001b[0;36mreducer1\u001b[0;34m(boro_cohort_v1_v2)\u001b[0m\n\u001b[1;32m      2\u001b[0m \u001b[0;32mdef\u001b[0m \u001b[0mreducer1\u001b[0m\u001b[0;34m(\u001b[0m\u001b[0mboro_cohort_v1_v2\u001b[0m\u001b[0;34m)\u001b[0m\u001b[0;34m:\u001b[0m\u001b[0;34m\u001b[0m\u001b[0m\n\u001b[1;32m      3\u001b[0m     \u001b[0;34m(\u001b[0m\u001b[0;34m(\u001b[0m\u001b[0mboro\u001b[0m\u001b[0;34m,\u001b[0m \u001b[0mcohort\u001b[0m\u001b[0;34m)\u001b[0m\u001b[0;34m,\u001b[0m \u001b[0;34m[\u001b[0m\u001b[0;34m(\u001b[0m\u001b[0mv1\u001b[0m\u001b[0;34m,\u001b[0m \u001b[0mv2\u001b[0m\u001b[0;34m)\u001b[0m\u001b[0;34m]\u001b[0m\u001b[0;34m)\u001b[0m \u001b[0;34m=\u001b[0m \u001b[0mboro_cohort_v1_v2\u001b[0m\u001b[0;34m\u001b[0m\u001b[0m\n\u001b[0;32m----> 4\u001b[0;31m     \u001b[0;32mreturn\u001b[0m\u001b[0;34m(\u001b[0m\u001b[0mmean\u001b[0m\u001b[0;34m(\u001b[0m\u001b[0mv1\u001b[0m\u001b[0;34m)\u001b[0m\u001b[0;34m)\u001b[0m\u001b[0;34m\u001b[0m\u001b[0m\n\u001b[0m\u001b[1;32m      5\u001b[0m     \u001b[0mprint\u001b[0m\u001b[0;34m(\u001b[0m\u001b[0mv1\u001b[0m\u001b[0;34m,\u001b[0m \u001b[0mv2\u001b[0m\u001b[0;34m)\u001b[0m\u001b[0;34m\u001b[0m\u001b[0m\n",
      "\u001b[0;32m~/.conda/envs/venv/lib/python3.6/statistics.py\u001b[0m in \u001b[0;36mmean\u001b[0;34m(data)\u001b[0m\n\u001b[1;32m    305\u001b[0m     \u001b[0mIf\u001b[0m\u001b[0;31m \u001b[0m\u001b[0;31m`\u001b[0m\u001b[0;31m`\u001b[0m\u001b[0mdata\u001b[0m\u001b[0;31m`\u001b[0m\u001b[0;31m`\u001b[0m \u001b[0;32mis\u001b[0m \u001b[0mempty\u001b[0m\u001b[0;34m,\u001b[0m \u001b[0mStatisticsError\u001b[0m \u001b[0mwill\u001b[0m \u001b[0mbe\u001b[0m \u001b[0mraised\u001b[0m\u001b[0;34m.\u001b[0m\u001b[0;34m\u001b[0m\u001b[0m\n\u001b[1;32m    306\u001b[0m     \"\"\"\n\u001b[0;32m--> 307\u001b[0;31m     \u001b[0;32mif\u001b[0m \u001b[0miter\u001b[0m\u001b[0;34m(\u001b[0m\u001b[0mdata\u001b[0m\u001b[0;34m)\u001b[0m \u001b[0;32mis\u001b[0m \u001b[0mdata\u001b[0m\u001b[0;34m:\u001b[0m\u001b[0;34m\u001b[0m\u001b[0m\n\u001b[0m\u001b[1;32m    308\u001b[0m         \u001b[0mdata\u001b[0m \u001b[0;34m=\u001b[0m \u001b[0mlist\u001b[0m\u001b[0;34m(\u001b[0m\u001b[0mdata\u001b[0m\u001b[0;34m)\u001b[0m\u001b[0;34m\u001b[0m\u001b[0m\n\u001b[1;32m    309\u001b[0m     \u001b[0mn\u001b[0m \u001b[0;34m=\u001b[0m \u001b[0mlen\u001b[0m\u001b[0;34m(\u001b[0m\u001b[0mdata\u001b[0m\u001b[0;34m)\u001b[0m\u001b[0;34m\u001b[0m\u001b[0m\n",
      "\u001b[0;31mTypeError\u001b[0m: 'float' object is not iterable"
     ]
    }
   ],
   "source": [
    "# <DEFINE YOUR MAPPER(S) and REDUCER(S) HERE>\n",
    "\n",
    "with open('nyc_grads.csv', 'r') as fi:\n",
    "    reader = csv.DictReader(fi)\n",
    "    output = list(mr.run(reader, mapper1, reducer1))\n",
    "\n",
    "output"
   ]
  },
  {
   "cell_type": "code",
   "execution_count": 57,
   "metadata": {},
   "outputs": [],
   "source": [
    "def mapper1(row):\n",
    "    if row['Demographic'] == 'Borough Total':\n",
    "        v1 = int(row['Advanced Regents'])/int(row['Total Cohort'])\n",
    "        v2 = int(row['Dropped Out'])/int(row['Total Cohort'])\n",
    "        yield  ((row['Borough'], row['Cohort']), (v1, v2))"
   ]
  },
  {
   "cell_type": "code",
   "execution_count": 70,
   "metadata": {},
   "outputs": [],
   "source": [
    "from statistics import mean\n",
    "def reducer1(boro_cohort_v1_v2):\n",
    "    ((boro, cohort), [(v1, v2)]) = boro_cohort_v1_v2\n",
    "    return(mean(v1))\n",
    "    print(v1, v2)"
   ]
  },
  {
   "cell_type": "code",
   "execution_count": null,
   "metadata": {},
   "outputs": [],
   "source": []
  }
 ],
 "metadata": {
  "kernelspec": {
   "display_name": "venv",
   "language": "python",
   "name": "venv"
  },
  "language_info": {
   "codemirror_mode": {
    "name": "ipython",
    "version": 3
   },
   "file_extension": ".py",
   "mimetype": "text/x-python",
   "name": "python",
   "nbconvert_exporter": "python",
   "pygments_lexer": "ipython3",
   "version": "3.6.5"
  }
 },
 "nbformat": 4,
 "nbformat_minor": 1
}
