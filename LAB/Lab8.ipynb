{
 "cells": [
  {
   "cell_type": "code",
   "execution_count": 1,
   "metadata": {},
   "outputs": [
    {
     "data": {
      "text/html": [
       "\n",
       "        <div>\n",
       "            <p><b>SparkContext</b></p>\n",
       "\n",
       "            <p><a href=\"http://172.16.37.80:4042\">Spark UI</a></p>\n",
       "\n",
       "            <dl>\n",
       "              <dt>Version</dt>\n",
       "                <dd><code>v2.3.1</code></dd>\n",
       "              <dt>Master</dt>\n",
       "                <dd><code>local[*]</code></dd>\n",
       "              <dt>AppName</dt>\n",
       "                <dd><code>PySparkShell</code></dd>\n",
       "            </dl>\n",
       "        </div>\n",
       "        "
      ],
      "text/plain": [
       "<SparkContext master=local[*] appName=PySparkShell>"
      ]
     },
     "execution_count": 1,
     "metadata": {},
     "output_type": "execute_result"
    }
   ],
   "source": [
    "sc"
   ]
  },
  {
   "cell_type": "code",
   "execution_count": 4,
   "metadata": {},
   "outputs": [],
   "source": [
    "taxi = sc.textFile('yellow.csv.gz')\n",
    "bike = sc.textFile('citibike.csv')"
   ]
  },
  {
   "cell_type": "code",
   "execution_count": 7,
   "metadata": {},
   "outputs": [
    {
     "data": {
      "text/plain": [
       "[(0, 'cartodb_id'),\n",
       " (1, 'the_geom'),\n",
       " (2, 'tripduration'),\n",
       " (3, 'starttime'),\n",
       " (4, 'stoptime'),\n",
       " (5, 'start_station_id'),\n",
       " (6, 'start_station_name'),\n",
       " (7, 'start_station_latitude'),\n",
       " (8, 'start_station_longitude'),\n",
       " (9, 'end_station_id'),\n",
       " (10, 'end_station_name'),\n",
       " (11, 'end_station_latitude'),\n",
       " (12, 'end_station_longitude'),\n",
       " (13, 'bikeid'),\n",
       " (14, 'usertype'),\n",
       " (15, 'birth_year'),\n",
       " (16, 'gender')]"
      ]
     },
     "execution_count": 7,
     "metadata": {},
     "output_type": "execute_result"
    }
   ],
   "source": [
    "list(enumerate(bike.first().split(',')))"
   ]
  },
  {
   "cell_type": "code",
   "execution_count": 22,
   "metadata": {},
   "outputs": [],
   "source": [
    "#bike RDD -> filter by greenwich ave & 8 ave station \n",
    "def bikeFilter(records):\n",
    "    for record in records: \n",
    "        fields = record.split(',')\n",
    "        if (fields[6] =='Greenwich Ave & 8 Ave' and\n",
    "                fields[3].startswith('2015-02-01')):\n",
    "            yield fields[3]\n",
    "\n",
    "matchedBike = bike.mapPartitions(bikeFilter)"
   ]
  },
  {
   "cell_type": "code",
   "execution_count": 23,
   "metadata": {},
   "outputs": [
    {
     "data": {
      "text/plain": [
       "['2015-02-01 00:05:00+00', '2015-02-01 00:05:00+00']"
      ]
     },
     "execution_count": 23,
     "metadata": {},
     "output_type": "execute_result"
    }
   ],
   "source": [
    "matchedBike.take(2)"
   ]
  },
  {
   "cell_type": "code",
   "execution_count": 37,
   "metadata": {},
   "outputs": [
    {
     "data": {
      "text/plain": [
       "7278"
      ]
     },
     "execution_count": 37,
     "metadata": {},
     "output_type": "execute_result"
    }
   ],
   "source": [
    "def filterTaxi(pIndex, lines):\n",
    "    if pIndex==0:\n",
    "        next(lines)\n",
    "    import pyproj\n",
    "    proj = pyproj.Proj(init=\"epsg:2263\", preserve_units=True)\n",
    "    station = proj(-74.00263761, 40.73901691)\n",
    "    radius = 1320**2\n",
    "    for trip in lines:\n",
    "        fields = trip.split(',')\n",
    "        try: \n",
    "            dropoff = proj(fields[5], fields[4])\n",
    "        except:\n",
    "            continue\n",
    "        if(fields[1].startswith('2015-02-01') and \n",
    "           ((dropoff[0] - station[0])**2 + \n",
    "            (dropoff[1] - station[1])**2 <=radius)):\n",
    "            yield dropoff\n",
    "        \n",
    "matchedTaxi = taxi.mapPartitionsWithIndex(filterTaxi)\n",
    "matchedTaxi.count()"
   ]
  },
  {
   "cell_type": "code",
   "execution_count": null,
   "metadata": {},
   "outputs": [],
   "source": []
  }
 ],
 "metadata": {
  "kernelspec": {
   "display_name": "Python 3",
   "language": "python",
   "name": "python3"
  },
  "language_info": {
   "codemirror_mode": {
    "name": "ipython",
    "version": 3
   },
   "file_extension": ".py",
   "mimetype": "text/x-python",
   "name": "python",
   "nbconvert_exporter": "python",
   "pygments_lexer": "ipython3",
   "version": "3.6.4"
  }
 },
 "nbformat": 4,
 "nbformat_minor": 2
}
